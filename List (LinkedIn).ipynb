{
 "cells": [
  {
   "cell_type": "markdown",
   "id": "f1df973e",
   "metadata": {},
   "source": [
    "# List"
   ]
  },
  {
   "cell_type": "markdown",
   "id": "4a3fa570",
   "metadata": {},
   "source": [
    "###           1)List is an ordered sequence of items\n",
    "###         2)We can have different data types under list E.g we can have integer,float and string items in a same list"
   ]
  },
  {
   "cell_type": "markdown",
   "id": "d401e834",
   "metadata": {},
   "source": [
    "##  1) List Creation"
   ]
  },
  {
   "cell_type": "code",
   "execution_count": 1,
   "id": "64044116",
   "metadata": {},
   "outputs": [
    {
     "data": {
      "text/plain": [
       "[]"
      ]
     },
     "execution_count": 1,
     "metadata": {},
     "output_type": "execute_result"
    }
   ],
   "source": [
    "list1=[]  #empty list\n",
    "list1"
   ]
  },
  {
   "cell_type": "code",
   "execution_count": 2,
   "id": "92796aad",
   "metadata": {},
   "outputs": [
    {
     "name": "stdout",
     "output_type": "stream",
     "text": [
      "<class 'list'>\n"
     ]
    }
   ],
   "source": [
    "print(type(list1))"
   ]
  },
  {
   "cell_type": "code",
   "execution_count": 3,
   "id": "73d905e1",
   "metadata": {},
   "outputs": [
    {
     "data": {
      "text/plain": [
       "[10, 20, 46]"
      ]
     },
     "execution_count": 3,
     "metadata": {},
     "output_type": "execute_result"
    }
   ],
   "source": [
    "list2=[10,20,46]  #list of integers numbers\n",
    "list2"
   ]
  },
  {
   "cell_type": "code",
   "execution_count": 4,
   "id": "a2f929b6",
   "metadata": {},
   "outputs": [
    {
     "data": {
      "text/plain": [
       "[20.55, 267.98, 56.34]"
      ]
     },
     "execution_count": 4,
     "metadata": {},
     "output_type": "execute_result"
    }
   ],
   "source": [
    "list3=[20.55,267.98,56.34]   #list of float numbers\n",
    "list3"
   ]
  },
  {
   "cell_type": "code",
   "execution_count": 5,
   "id": "4c475a54",
   "metadata": {},
   "outputs": [
    {
     "data": {
      "text/plain": [
       "['one', 'two', 'three', 'four']"
      ]
     },
     "execution_count": 5,
     "metadata": {},
     "output_type": "execute_result"
    }
   ],
   "source": [
    "list4=['one','two','three','four']   #list of string \n",
    "list4"
   ]
  },
  {
   "cell_type": "code",
   "execution_count": 6,
   "id": "29849fee",
   "metadata": {},
   "outputs": [
    {
     "data": {
      "text/plain": [
       "[1, 3, 5, 21, [23, 86], 35, [23, 'Atif']]"
      ]
     },
     "execution_count": 6,
     "metadata": {},
     "output_type": "execute_result"
    }
   ],
   "source": [
    "list5=[1,3,5,21,[23,86],35,[23,'Atif']]  #nested list\n",
    "list5"
   ]
  },
  {
   "cell_type": "code",
   "execution_count": 7,
   "id": "f462eb86",
   "metadata": {},
   "outputs": [
    {
     "data": {
      "text/plain": [
       "[100, 'Asif', 23.45]"
      ]
     },
     "execution_count": 7,
     "metadata": {},
     "output_type": "execute_result"
    }
   ],
   "source": [
    "list6=[100,'Asif',23.45]   #Mixed list\n",
    "list6"
   ]
  },
  {
   "cell_type": "code",
   "execution_count": 8,
   "id": "aa572010",
   "metadata": {},
   "outputs": [
    {
     "data": {
      "text/plain": [
       "3"
      ]
     },
     "execution_count": 8,
     "metadata": {},
     "output_type": "execute_result"
    }
   ],
   "source": [
    "len(list6)"
   ]
  },
  {
   "cell_type": "markdown",
   "id": "5a7e6f6d",
   "metadata": {},
   "source": [
    "### 2) List Indexing"
   ]
  },
  {
   "cell_type": "code",
   "execution_count": 9,
   "id": "235a8bb2",
   "metadata": {},
   "outputs": [
    {
     "data": {
      "text/plain": [
       "10"
      ]
     },
     "execution_count": 9,
     "metadata": {},
     "output_type": "execute_result"
    }
   ],
   "source": [
    "list2[0]   #It retrieve first element of the list"
   ]
  },
  {
   "cell_type": "code",
   "execution_count": 10,
   "id": "97224aa0",
   "metadata": {},
   "outputs": [
    {
     "data": {
      "text/plain": [
       "46"
      ]
     },
     "execution_count": 10,
     "metadata": {},
     "output_type": "execute_result"
    }
   ],
   "source": [
    "list2[-1]"
   ]
  },
  {
   "cell_type": "code",
   "execution_count": 11,
   "id": "86abc669",
   "metadata": {},
   "outputs": [
    {
     "data": {
      "text/plain": [
       "23"
      ]
     },
     "execution_count": 11,
     "metadata": {},
     "output_type": "execute_result"
    }
   ],
   "source": [
    "list5[4][0]"
   ]
  },
  {
   "cell_type": "code",
   "execution_count": 12,
   "id": "19510d35",
   "metadata": {},
   "outputs": [],
   "source": [
    "#assigning values"
   ]
  },
  {
   "cell_type": "code",
   "execution_count": 13,
   "id": "af3d17e4",
   "metadata": {},
   "outputs": [
    {
     "name": "stdout",
     "output_type": "stream",
     "text": [
      "[1, 3, 5, 21, [85, 86], 35, [23, 'Atif']]\n"
     ]
    }
   ],
   "source": [
    "list5[4][0]=85\n",
    "print(list5)"
   ]
  },
  {
   "cell_type": "markdown",
   "id": "5fbfd2fd",
   "metadata": {},
   "source": [
    "### 3) List Slicing"
   ]
  },
  {
   "cell_type": "code",
   "execution_count": 14,
   "id": "99570770",
   "metadata": {},
   "outputs": [
    {
     "data": {
      "text/plain": [
       "[2, 5, 255]"
      ]
     },
     "execution_count": 14,
     "metadata": {},
     "output_type": "execute_result"
    }
   ],
   "source": [
    "newlist=[2,5,255,78,67,'One','tomato','89']  #return all values from 0th index to 3rd index and excluding all other values\n",
    "newlist[0:3]"
   ]
  },
  {
   "cell_type": "code",
   "execution_count": 15,
   "id": "afc1f35f",
   "metadata": {},
   "outputs": [
    {
     "data": {
      "text/plain": [
       "[2, 5, 255, 78]"
      ]
     },
     "execution_count": 15,
     "metadata": {},
     "output_type": "execute_result"
    }
   ],
   "source": [
    "newlist[:4] #return all values from starting to 3rd index"
   ]
  },
  {
   "cell_type": "code",
   "execution_count": 16,
   "id": "459d2ec0",
   "metadata": {},
   "outputs": [
    {
     "data": {
      "text/plain": [
       "[67, 'One', 'tomato', '89']"
      ]
     },
     "execution_count": 16,
     "metadata": {},
     "output_type": "execute_result"
    }
   ],
   "source": [
    "newlist[-4:]  #return last 4 values"
   ]
  },
  {
   "cell_type": "code",
   "execution_count": 17,
   "id": "a7ff0bbc",
   "metadata": {},
   "outputs": [
    {
     "data": {
      "text/plain": [
       "'89'"
      ]
     },
     "execution_count": 17,
     "metadata": {},
     "output_type": "execute_result"
    }
   ],
   "source": [
    "newlist[-1]  #return last values"
   ]
  },
  {
   "cell_type": "code",
   "execution_count": 18,
   "id": "9cba54e0",
   "metadata": {},
   "outputs": [
    {
     "data": {
      "text/plain": [
       "[2, 5, 255, 78, 67, 'One', 'tomato', '89']"
      ]
     },
     "execution_count": 18,
     "metadata": {},
     "output_type": "execute_result"
    }
   ],
   "source": [
    "newlist[:] #return all values"
   ]
  },
  {
   "cell_type": "markdown",
   "id": "dbf47ebc",
   "metadata": {},
   "source": [
    "### 4)Add,Remove and Change items"
   ]
  },
  {
   "cell_type": "code",
   "execution_count": 19,
   "id": "de545012",
   "metadata": {},
   "outputs": [
    {
     "data": {
      "text/plain": [
       "[2, 5, 255, 78, 67, 'One', 'tomato', '89']"
      ]
     },
     "execution_count": 19,
     "metadata": {},
     "output_type": "execute_result"
    }
   ],
   "source": [
    "newlist"
   ]
  },
  {
   "cell_type": "code",
   "execution_count": 20,
   "id": "137c81a8",
   "metadata": {},
   "outputs": [
    {
     "data": {
      "text/plain": [
       "[2, 5, 255, 78, 67, 'One', 'tomato', '89', '100']"
      ]
     },
     "execution_count": 20,
     "metadata": {},
     "output_type": "execute_result"
    }
   ],
   "source": [
    "newlist.append('100')  #add new value to the end of the list\n",
    "newlist"
   ]
  },
  {
   "cell_type": "code",
   "execution_count": 21,
   "id": "30a608c5",
   "metadata": {},
   "outputs": [
    {
     "data": {
      "text/plain": [
       "[2, 5, 'fun', 255, 78, 67, 'One', 'tomato', '89', '100']"
      ]
     },
     "execution_count": 21,
     "metadata": {},
     "output_type": "execute_result"
    }
   ],
   "source": [
    "newlist.insert(2,'fun')  #add new values in the 2nd location word fun\n",
    "newlist"
   ]
  },
  {
   "cell_type": "code",
   "execution_count": 22,
   "id": "267ead13",
   "metadata": {},
   "outputs": [
    {
     "data": {
      "text/plain": [
       "[2, 5, 255, 78, 67, 'One', 'tomato', '89', '100']"
      ]
     },
     "execution_count": 22,
     "metadata": {},
     "output_type": "execute_result"
    }
   ],
   "source": [
    "newlist.remove('fun')  #remove fun element from the list\n",
    "newlist"
   ]
  },
  {
   "cell_type": "code",
   "execution_count": 23,
   "id": "a87f2f2a",
   "metadata": {},
   "outputs": [
    {
     "data": {
      "text/plain": [
       "[2, 5, 255, 78, 67, 'One', 'tomato', '89']"
      ]
     },
     "execution_count": 23,
     "metadata": {},
     "output_type": "execute_result"
    }
   ],
   "source": [
    "newlist.pop()  #remove the last element from the list\n",
    "newlist"
   ]
  },
  {
   "cell_type": "code",
   "execution_count": 24,
   "id": "1c881b33",
   "metadata": {},
   "outputs": [
    {
     "data": {
      "text/plain": [
       "2"
      ]
     },
     "execution_count": 24,
     "metadata": {},
     "output_type": "execute_result"
    }
   ],
   "source": [
    "newlist.pop(0)   #remove the element from 0th index"
   ]
  },
  {
   "cell_type": "code",
   "execution_count": 25,
   "id": "fce9e5f8",
   "metadata": {},
   "outputs": [
    {
     "data": {
      "text/plain": [
       "[1, 83, 78, 67, 'One', 'tomato', '89']"
      ]
     },
     "execution_count": 25,
     "metadata": {},
     "output_type": "execute_result"
    }
   ],
   "source": [
    "#change value of the string\n",
    "\n",
    "newlist[0]=1\n",
    "newlist[1]=83\n",
    "newlist"
   ]
  },
  {
   "cell_type": "code",
   "execution_count": 26,
   "id": "f6781219",
   "metadata": {},
   "outputs": [
    {
     "data": {
      "text/plain": [
       "[]"
      ]
     },
     "execution_count": 26,
     "metadata": {},
     "output_type": "execute_result"
    }
   ],
   "source": [
    "newlist.clear()   #empty list\n",
    "newlist"
   ]
  },
  {
   "cell_type": "markdown",
   "id": "5249d559",
   "metadata": {},
   "source": [
    "## 5)Copy List"
   ]
  },
  {
   "cell_type": "code",
   "execution_count": 27,
   "id": "d859b02a",
   "metadata": {},
   "outputs": [
    {
     "data": {
      "text/plain": [
       "['one', 'two', 'three', 'four', 'five', 'six']"
      ]
     },
     "execution_count": 27,
     "metadata": {},
     "output_type": "execute_result"
    }
   ],
   "source": [
    "mylist=['one','two','three','four','five','six']\n",
    "mylist"
   ]
  },
  {
   "cell_type": "code",
   "execution_count": 28,
   "id": "6c28f438",
   "metadata": {},
   "outputs": [
    {
     "data": {
      "text/plain": [
       "2267232290496"
      ]
     },
     "execution_count": 28,
     "metadata": {},
     "output_type": "execute_result"
    }
   ],
   "source": [
    "id(mylist)  #address of the list"
   ]
  },
  {
   "cell_type": "code",
   "execution_count": 29,
   "id": "f67dc7a3",
   "metadata": {},
   "outputs": [],
   "source": [
    "mylist2=mylist.copy()    #Create a copy of list"
   ]
  },
  {
   "cell_type": "code",
   "execution_count": 30,
   "id": "a5dc87b0",
   "metadata": {},
   "outputs": [
    {
     "data": {
      "text/plain": [
       "['one', 'two', 'three', 'four', 'five', 'six']"
      ]
     },
     "execution_count": 30,
     "metadata": {},
     "output_type": "execute_result"
    }
   ],
   "source": [
    "mylist2"
   ]
  },
  {
   "cell_type": "code",
   "execution_count": 31,
   "id": "f97a13b5",
   "metadata": {},
   "outputs": [
    {
     "data": {
      "text/plain": [
       "[7595, 'two', 'three', 'four', 'five', 'six']"
      ]
     },
     "execution_count": 31,
     "metadata": {},
     "output_type": "execute_result"
    }
   ],
   "source": [
    "mylist[0]=7595\n",
    "mylist"
   ]
  },
  {
   "cell_type": "code",
   "execution_count": 32,
   "id": "3741be93",
   "metadata": {},
   "outputs": [
    {
     "data": {
      "text/plain": [
       "['one', 'two', 'three', 'four', 'five', 'six']"
      ]
     },
     "execution_count": 32,
     "metadata": {},
     "output_type": "execute_result"
    }
   ],
   "source": [
    "mylist2    #the copied list wont be impacted as we made changes in original list"
   ]
  },
  {
   "cell_type": "markdown",
   "id": "bece3c67",
   "metadata": {},
   "source": [
    "## 6)Join Lists"
   ]
  },
  {
   "cell_type": "code",
   "execution_count": 33,
   "id": "5c389c73",
   "metadata": {},
   "outputs": [],
   "source": [
    "list1=[1,2,3,4,5]\n",
    "list2=[6,7,8,9,10]\n"
   ]
  },
  {
   "cell_type": "code",
   "execution_count": 34,
   "id": "b25957ea",
   "metadata": {},
   "outputs": [
    {
     "data": {
      "text/plain": [
       "[1, 2, 3, 4, 5, 6, 7, 8, 9, 10]"
      ]
     },
     "execution_count": 34,
     "metadata": {},
     "output_type": "execute_result"
    }
   ],
   "source": [
    "list3=list1+list2  #join two list by + operator\n",
    "list3"
   ]
  },
  {
   "cell_type": "markdown",
   "id": "7ed1cd78",
   "metadata": {},
   "source": [
    "## 7)List Membership"
   ]
  },
  {
   "cell_type": "code",
   "execution_count": 35,
   "id": "593f44c9",
   "metadata": {},
   "outputs": [
    {
     "data": {
      "text/plain": [
       "[1, 2, 3, 4, 5, 6, 7, 8, 9, 10]"
      ]
     },
     "execution_count": 35,
     "metadata": {},
     "output_type": "execute_result"
    }
   ],
   "source": [
    "list3"
   ]
  },
  {
   "cell_type": "code",
   "execution_count": 36,
   "id": "9bc93c41",
   "metadata": {},
   "outputs": [
    {
     "data": {
      "text/plain": [
       "True"
      ]
     },
     "execution_count": 36,
     "metadata": {},
     "output_type": "execute_result"
    }
   ],
   "source": [
    "1 in list3   #Check if 1 exist in the list"
   ]
  },
  {
   "cell_type": "code",
   "execution_count": 37,
   "id": "abac6b4f",
   "metadata": {},
   "outputs": [
    {
     "data": {
      "text/plain": [
       "[1, 2, 'DataScience', 4, 5, 6, 7, 8, 9, 10]"
      ]
     },
     "execution_count": 37,
     "metadata": {},
     "output_type": "execute_result"
    }
   ],
   "source": [
    "list3[2]='DataScience'\n",
    "list3"
   ]
  },
  {
   "cell_type": "code",
   "execution_count": 38,
   "id": "872280eb",
   "metadata": {},
   "outputs": [
    {
     "data": {
      "text/plain": [
       "True"
      ]
     },
     "execution_count": 38,
     "metadata": {},
     "output_type": "execute_result"
    }
   ],
   "source": [
    "'DataScience' in list3"
   ]
  },
  {
   "cell_type": "code",
   "execution_count": 39,
   "id": "9ef85316",
   "metadata": {},
   "outputs": [
    {
     "name": "stdout",
     "output_type": "stream",
     "text": [
      "Yeah it is present\n"
     ]
    }
   ],
   "source": [
    "#Check for Datascience exist if yes than a print statement will present\n",
    "if 'DataScience' in list3:\n",
    "    print('Yeah it is present')\n",
    "else:\n",
    "    print('No its not present')"
   ]
  },
  {
   "cell_type": "code",
   "execution_count": 40,
   "id": "1c5e42c7",
   "metadata": {},
   "outputs": [
    {
     "name": "stdout",
     "output_type": "stream",
     "text": [
      "No its not present\n"
     ]
    }
   ],
   "source": [
    "if 'Deeplearning' in list3:\n",
    "    print('Yeah it is present')\n",
    "else:\n",
    "    print('No its not present')"
   ]
  },
  {
   "cell_type": "markdown",
   "id": "8190cd90",
   "metadata": {},
   "source": [
    "## 8)Reverse and sort list"
   ]
  },
  {
   "cell_type": "code",
   "execution_count": 41,
   "id": "76f9a2bb",
   "metadata": {},
   "outputs": [
    {
     "data": {
      "text/plain": [
       "[1, 2, 'DataScience', 4, 5, 6, 7, 8, 9, 10]"
      ]
     },
     "execution_count": 41,
     "metadata": {},
     "output_type": "execute_result"
    }
   ],
   "source": [
    "list3"
   ]
  },
  {
   "cell_type": "code",
   "execution_count": 42,
   "id": "80be8740",
   "metadata": {},
   "outputs": [
    {
     "data": {
      "text/plain": [
       "[10, 9, 8, 7, 6, 5, 4, 'DataScience', 2, 1]"
      ]
     },
     "execution_count": 42,
     "metadata": {},
     "output_type": "execute_result"
    }
   ],
   "source": [
    "list3.reverse()   #It will reverse reverse the list\n",
    "list3"
   ]
  },
  {
   "cell_type": "code",
   "execution_count": 43,
   "id": "87987ca8",
   "metadata": {},
   "outputs": [
    {
     "data": {
      "text/plain": [
       "[10, 9, 8, 7, 6, 5, 4, 'DataScience', 2, 1]"
      ]
     },
     "execution_count": 43,
     "metadata": {},
     "output_type": "execute_result"
    }
   ],
   "source": [
    "list3[::-1]\n",
    "list3"
   ]
  },
  {
   "cell_type": "code",
   "execution_count": 44,
   "id": "2f41a55e",
   "metadata": {},
   "outputs": [],
   "source": [
    "list3.remove('DataScience')\n"
   ]
  },
  {
   "cell_type": "code",
   "execution_count": 45,
   "id": "0736dcae",
   "metadata": {},
   "outputs": [
    {
     "data": {
      "text/plain": [
       "[10, 9, 8, 7, 6, 5, 4, 2, 1]"
      ]
     },
     "execution_count": 45,
     "metadata": {},
     "output_type": "execute_result"
    }
   ],
   "source": [
    "list3"
   ]
  },
  {
   "cell_type": "code",
   "execution_count": 46,
   "id": "e4788bd0",
   "metadata": {},
   "outputs": [
    {
     "data": {
      "text/plain": [
       "[10, 9, 8, 7, 6, 5, 4, 2, 1]"
      ]
     },
     "execution_count": 46,
     "metadata": {},
     "output_type": "execute_result"
    }
   ],
   "source": [
    "list3"
   ]
  },
  {
   "cell_type": "code",
   "execution_count": 47,
   "id": "9ff871f5",
   "metadata": {},
   "outputs": [
    {
     "data": {
      "text/plain": [
       "[1, 2, 4, 5, 6, 7, 8, 9, 10]"
      ]
     },
     "execution_count": 47,
     "metadata": {},
     "output_type": "execute_result"
    }
   ],
   "source": [
    "list3.sort()  #Sort in Ascending order\n",
    "list3"
   ]
  },
  {
   "cell_type": "code",
   "execution_count": 48,
   "id": "e11bf6fe",
   "metadata": {},
   "outputs": [
    {
     "data": {
      "text/plain": [
       "[1, 2, 4, 5, 6, 7, 8, 9, 10]"
      ]
     },
     "execution_count": 48,
     "metadata": {},
     "output_type": "execute_result"
    }
   ],
   "source": [
    "list3.sort(reverse=False)   #Sort in Ascending order\n",
    "list3"
   ]
  },
  {
   "cell_type": "code",
   "execution_count": 49,
   "id": "b7a69cd3",
   "metadata": {},
   "outputs": [
    {
     "data": {
      "text/plain": [
       "[10, 9, 8, 7, 6, 5, 4, 2, 1]"
      ]
     },
     "execution_count": 49,
     "metadata": {},
     "output_type": "execute_result"
    }
   ],
   "source": [
    "list3.sort(reverse=True) #Sort in Decending order\n",
    "list3"
   ]
  },
  {
   "cell_type": "markdown",
   "id": "63e72b74",
   "metadata": {},
   "source": [
    "# 9)Loop through a list"
   ]
  },
  {
   "cell_type": "code",
   "execution_count": 50,
   "id": "ab771816",
   "metadata": {},
   "outputs": [
    {
     "name": "stdout",
     "output_type": "stream",
     "text": [
      "one\n",
      "two\n",
      "three\n",
      "four\n",
      "five\n"
     ]
    }
   ],
   "source": [
    "list=['one','two','three','four','five']\n",
    "for i in list:\n",
    "    print(i)"
   ]
  },
  {
   "cell_type": "code",
   "execution_count": 51,
   "id": "5095ee57",
   "metadata": {},
   "outputs": [
    {
     "name": "stdout",
     "output_type": "stream",
     "text": [
      "(0, 'one')\n",
      "(1, 'two')\n",
      "(2, 'three')\n",
      "(3, 'four')\n",
      "(4, 'five')\n"
     ]
    }
   ],
   "source": [
    "for i in enumerate(list):\n",
    "    print(i)"
   ]
  },
  {
   "cell_type": "markdown",
   "id": "51677388",
   "metadata": {},
   "source": [
    "# 10)Count"
   ]
  },
  {
   "cell_type": "code",
   "execution_count": 52,
   "id": "f0475082",
   "metadata": {},
   "outputs": [
    {
     "data": {
      "text/plain": [
       "2"
      ]
     },
     "execution_count": 52,
     "metadata": {},
     "output_type": "execute_result"
    }
   ],
   "source": [
    "list=['one','two','three','four','five','five','five','three']\n",
    "list.count('three')   #Number of times item 'three' occurred in the list"
   ]
  },
  {
   "cell_type": "code",
   "execution_count": 53,
   "id": "429c3b99",
   "metadata": {},
   "outputs": [
    {
     "data": {
      "text/plain": [
       "3"
      ]
     },
     "execution_count": 53,
     "metadata": {},
     "output_type": "execute_result"
    }
   ],
   "source": [
    "list.count('five')       #Number of times item 'five' occurred in the list"
   ]
  },
  {
   "cell_type": "markdown",
   "id": "be6d6dc3",
   "metadata": {},
   "source": [
    "# 11) List Comprehensions"
   ]
  },
  {
   "cell_type": "code",
   "execution_count": 54,
   "id": "85612436",
   "metadata": {},
   "outputs": [
    {
     "data": {
      "text/plain": [
       "[0, 2, 4, 6, 8, 10, 12, 14, 16, 18, 20, 22, 24, 26, 28, 30, 32, 34, 36, 38]"
      ]
     },
     "execution_count": 54,
     "metadata": {},
     "output_type": "execute_result"
    }
   ],
   "source": [
    "mylist=[i for i in range(40) if i%2==0]  #Display all even number between 0 to 40\n",
    "mylist"
   ]
  },
  {
   "cell_type": "code",
   "execution_count": 55,
   "id": "113722f2",
   "metadata": {},
   "outputs": [
    {
     "data": {
      "text/plain": [
       "[1, 3, 5, 7, 9, 11, 13, 15, 17, 19, 21, 23, 25, 27, 29, 31, 33, 35, 37, 39]"
      ]
     },
     "execution_count": 55,
     "metadata": {},
     "output_type": "execute_result"
    }
   ],
   "source": [
    "mylist=[i for i in range(40) if i%2==1] #Display all odd number between 0 to 40\n",
    "mylist "
   ]
  },
  {
   "cell_type": "code",
   "execution_count": 56,
   "id": "1983ae8e",
   "metadata": {},
   "outputs": [
    {
     "data": {
      "text/plain": [
       "[0, 1, 4, 9, 16, 25, 36, 49, 64, 81]"
      ]
     },
     "execution_count": 56,
     "metadata": {},
     "output_type": "execute_result"
    }
   ],
   "source": [
    "mylist=[num**2 for num in range(10)]\n",
    "mylist"
   ]
  },
  {
   "cell_type": "markdown",
   "id": "9b7fbaea",
   "metadata": {},
   "source": [
    "# [expression for item in list]"
   ]
  },
  {
   "cell_type": "code",
   "execution_count": 57,
   "id": "db9ceaf0",
   "metadata": {},
   "outputs": [
    {
     "name": "stdout",
     "output_type": "stream",
     "text": [
      "[0, 10, 20, 30, 40, 50, 60, 70, 80, 90, 100, 110, 120, 130, 140, 150, 160, 170, 180, 190]\n"
     ]
    }
   ],
   "source": [
    "#Multiply whole list by 10\n",
    "list=[i*10 for i in range(20)]\n",
    "print(list)\n"
   ]
  },
  {
   "cell_type": "code",
   "execution_count": 58,
   "id": "fd82e6a9",
   "metadata": {},
   "outputs": [
    {
     "name": "stdout",
     "output_type": "stream",
     "text": [
      "[0, 10, 20, 30, 40, 50, 60, 70, 80, 90, 100, 110, 120, 130, 140, 150, 160, 170, 180, 190, 200]\n"
     ]
    }
   ],
   "source": [
    "#  Or \n",
    "list1=[0,1,2,3,4,5,6,7,8,9,10,11,12,13,14,15,16,17,18,19,20]\n",
    "mylist=[i*10 for i in list1]\n",
    "print(mylist)"
   ]
  },
  {
   "cell_type": "code",
   "execution_count": 59,
   "id": "e4e6a268",
   "metadata": {},
   "outputs": [
    {
     "data": {
      "text/plain": [
       "[0, 36, 72]"
      ]
     },
     "execution_count": 59,
     "metadata": {},
     "output_type": "execute_result"
    }
   ],
   "source": [
    "#list all number divisble by 3 ,9,12 \n",
    "list3=[i for i in range(100) if i%3==0 if i%9==0 if i%12==0]\n",
    "list3"
   ]
  },
  {
   "cell_type": "code",
   "execution_count": 61,
   "id": "7204a2fc",
   "metadata": {},
   "outputs": [
    {
     "data": {
      "text/plain": [
       "0"
      ]
     },
     "execution_count": 61,
     "metadata": {},
     "output_type": "execute_result"
    }
   ],
   "source": [
    "list3.index(0)"
   ]
  },
  {
   "cell_type": "code",
   "execution_count": null,
   "id": "6c3e1f46",
   "metadata": {},
   "outputs": [],
   "source": []
  }
 ],
 "metadata": {
  "kernelspec": {
   "display_name": "Python 3 (ipykernel)",
   "language": "python",
   "name": "python3"
  },
  "language_info": {
   "codemirror_mode": {
    "name": "ipython",
    "version": 3
   },
   "file_extension": ".py",
   "mimetype": "text/x-python",
   "name": "python",
   "nbconvert_exporter": "python",
   "pygments_lexer": "ipython3",
   "version": "3.9.12"
  }
 },
 "nbformat": 4,
 "nbformat_minor": 5
}
